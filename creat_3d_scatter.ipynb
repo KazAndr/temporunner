{
 "cells": [
  {
   "cell_type": "code",
   "execution_count": 10,
   "id": "dcca0cb3-3611-46a8-92bf-d69264b63ce8",
   "metadata": {},
   "outputs": [],
   "source": [
    "import pandas as pd\n",
    "import os\n",
    "import numpy as np\n",
    "import plotly\n",
    "import plotly.express as px\n",
    "from config import *\n",
    "\n",
    "from astropy.coordinates import SkyCoord\n",
    "from astropy import units as u\n",
    "from astropy.time import Time\n",
    "\n",
    "pd.options.display.float_format = '{:.9f}'.format"
   ]
  },
  {
   "cell_type": "markdown",
   "id": "4620fdbf-cc74-41c9-8205-6a831941b5ba",
   "metadata": {},
   "source": [
    "### 3D график всех элементов"
   ]
  },
  {
   "cell_type": "code",
   "execution_count": 16,
   "id": "d178afeb-05b3-4924-88d1-e5dd05e68ad8",
   "metadata": {},
   "outputs": [],
   "source": [
    "with open(f'res_iter_p_coords_{name_pulsar}.txt', 'r') as file:\n",
    "    list_for_lines = []\n",
    "    text = file.read().split('\\n')\n",
    "    for i in text:\n",
    "        list_for_lines.append(i.split())\n",
    "    x_list = []\n",
    "    y_list = []\n",
    "    z_list = []\n",
    "    colour_list = []\n",
    "    list_for_lines.pop()\n",
    "    for i in list_for_lines:\n",
    "        z_list.append(float(i[0]))\n",
    "        if len(i[1]) <= 12:\n",
    "            x_list.append(i[1])\n",
    "        else: \n",
    "            x_list.append(i[1][:-6]) # ограничение на длину параметра\n",
    "        if len(i[2]) <= 12:\n",
    "            y_list.append(i[2])\n",
    "        else: \n",
    "            y_list.append(i[2][:-6])# ограничение на длину параметра\n",
    "        colour_list.append(float(i[3]))"
   ]
  },
  {
   "cell_type": "code",
   "execution_count": 17,
   "id": "a72c1d2a-54d5-493d-aee3-19b54be943a1",
   "metadata": {},
   "outputs": [
    {
     "data": {
      "text/plain": [
       "'./res_iter_ra_dec_freq_1112.html'"
      ]
     },
     "execution_count": 17,
     "metadata": {},
     "output_type": "execute_result"
    }
   ],
   "source": [
    "df = pd.DataFrame({'ra': x_list, 'dec': y_list, 'freq': z_list, 'residuals': colour_list})\n",
    "fig = px.scatter_3d(df, x='ra', y='dec', z='freq', color='residuals')\n",
    "plotly.offline.plot(fig, filename=f'./res_iter_ra_dec_freq_{name_pulsar}.html')"
   ]
  },
  {
   "cell_type": "code",
   "execution_count": null,
   "id": "605675e4-ccf7-4f7b-a85b-5f0e229ea1db",
   "metadata": {},
   "outputs": [],
   "source": []
  },
  {
   "cell_type": "code",
   "execution_count": null,
   "id": "c48082d5-03c5-45df-b2ef-b586558555d4",
   "metadata": {},
   "outputs": [],
   "source": []
  },
  {
   "cell_type": "code",
   "execution_count": null,
   "id": "c384dcc6-6900-4d9c-8aa2-884cd1b32874",
   "metadata": {},
   "outputs": [],
   "source": []
  },
  {
   "cell_type": "code",
   "execution_count": null,
   "id": "400a7586-ca17-46e5-9e5d-0e0cd70f24c4",
   "metadata": {},
   "outputs": [],
   "source": []
  },
  {
   "cell_type": "code",
   "execution_count": null,
   "id": "dead9504-47b3-4827-828d-bbe7cd49c235",
   "metadata": {},
   "outputs": [],
   "source": []
  },
  {
   "cell_type": "markdown",
   "id": "27fbff0f-9ef5-4ff0-a928-1b184cf3d912",
   "metadata": {},
   "source": [
    "### 3D график лучших значений"
   ]
  },
  {
   "cell_type": "code",
   "execution_count": 6,
   "id": "7d5d4a3d-5970-436f-a394-2f898451039c",
   "metadata": {},
   "outputs": [],
   "source": [
    "with open(f'res_iter_p_coords_{name_pulsar}.txt', 'r') as file:\n",
    "    list_for_lines = []\n",
    "    text = file.read().split('\\n')\n",
    "    for i in text:\n",
    "        list_for_lines.append(i.split())\n",
    "    x_list = []\n",
    "    y_list = []\n",
    "    z_list = []\n",
    "    colour_list = []\n",
    "    #residuals = float(text[0].split(' ')[3])\n",
    "    list_for_lines.pop()\n",
    "    for i in list_for_lines:\n",
    "        residuals = float(i[3])\n",
    "        if residuals < 300000.0:\n",
    "            z_list.append(float(i[0]))\n",
    "            if len(i[1]) <= 12:\n",
    "                x_list.append(i[1])\n",
    "            else: \n",
    "                x_list.append(i[1][:-6])\n",
    "            if len(i[2]) <= 12:\n",
    "                y_list.append(i[2])\n",
    "            else: \n",
    "                y_list.append(i[2][:-6])\n",
    "            colour_list.append(float(i[3]))\n",
    "        "
   ]
  },
  {
   "cell_type": "code",
   "execution_count": 7,
   "id": "7caf9e83-9aab-40f9-82e8-be0e2f99ead8",
   "metadata": {},
   "outputs": [
    {
     "data": {
      "text/plain": [
       "'./res_iter_ra_dec_freq_1112.html'"
      ]
     },
     "execution_count": 7,
     "metadata": {},
     "output_type": "execute_result"
    }
   ],
   "source": [
    "df = pd.DataFrame({'ra': x_list, 'dec': y_list, 'freq': z_list, 'residuals': colour_list})\n",
    "fig = px.scatter_3d(df, x='ra', y='dec', z='freq', color='residuals')\n",
    "plotly.offline.plot(fig, filename=f'./res_iter_ra_dec_freq_{name_pulsar}.html')"
   ]
  },
  {
   "cell_type": "markdown",
   "id": "4f9406f3-c5aa-47ac-a36a-510c9b4065d5",
   "metadata": {},
   "source": [
    "### Чтение файла с координатами с частотой"
   ]
  },
  {
   "cell_type": "code",
   "execution_count": 213,
   "id": "8cda6e74-a118-4836-bb67-b650ae690629",
   "metadata": {},
   "outputs": [],
   "source": []
  },
  {
   "cell_type": "code",
   "execution_count": 11,
   "id": "89c0b3cf-b45a-44dd-896c-91069c50461a",
   "metadata": {},
   "outputs": [],
   "source": [
    "PULSAR = '1112'\n",
    "\n",
    "\n",
    "p_coors = pd.read_csv(f'res_iter_p_coords_{PULSAR}.txt',\n",
    "    sep='\\s+',\n",
    "    names=['Freq, s-1', 'RAJ', 'DECJ', 'STD_res, us'],\n",
    "    dtype={'Freq, s-1': np.float64, 'RAJ': str, 'DECJ': str, 'STD_res, us': np.float64}\n",
    ")\n",
    "pd.options.display.float_format = '{:.10f}'.format"
   ]
  },
  {
   "cell_type": "code",
   "execution_count": 12,
   "id": "b796d6f4-2fcd-47bc-bf45-ffce8c54ac9d",
   "metadata": {},
   "outputs": [],
   "source": [
    "p_coors_s = p_coors.sort_values(by='STD_res, us', ascending=True).reset_index(drop=True)"
   ]
  },
  {
   "cell_type": "code",
   "execution_count": 13,
   "id": "d51bfa36-0800-461b-976d-791c132d8f1c",
   "metadata": {},
   "outputs": [
    {
     "data": {
      "text/html": [
       "<div>\n",
       "<style scoped>\n",
       "    .dataframe tbody tr th:only-of-type {\n",
       "        vertical-align: middle;\n",
       "    }\n",
       "\n",
       "    .dataframe tbody tr th {\n",
       "        vertical-align: top;\n",
       "    }\n",
       "\n",
       "    .dataframe thead th {\n",
       "        text-align: right;\n",
       "    }\n",
       "</style>\n",
       "<table border=\"1\" class=\"dataframe\">\n",
       "  <thead>\n",
       "    <tr style=\"text-align: right;\">\n",
       "      <th></th>\n",
       "      <th>Freq, s-1</th>\n",
       "      <th>RAJ</th>\n",
       "      <th>DECJ</th>\n",
       "      <th>STD_res, us</th>\n",
       "    </tr>\n",
       "  </thead>\n",
       "  <tbody>\n",
       "    <tr>\n",
       "      <th>0</th>\n",
       "      <td>0.6037000000</td>\n",
       "      <td>11:15:48.83478261</td>\n",
       "      <td>50:45:12.29</td>\n",
       "      <td>458078.0912565014</td>\n",
       "    </tr>\n",
       "    <tr>\n",
       "      <th>1</th>\n",
       "      <td>0.6037000000</td>\n",
       "      <td>11:15:48.83478261</td>\n",
       "      <td>50:45:36.61432432</td>\n",
       "      <td>458078.0971694730</td>\n",
       "    </tr>\n",
       "    <tr>\n",
       "      <th>2</th>\n",
       "      <td>0.6037000000</td>\n",
       "      <td>11:15:54.05217391</td>\n",
       "      <td>50:50:52.83054054</td>\n",
       "      <td>458344.2958693962</td>\n",
       "    </tr>\n",
       "    <tr>\n",
       "      <th>3</th>\n",
       "      <td>0.6037000000</td>\n",
       "      <td>11:15:43.6173913</td>\n",
       "      <td>50:45:36.61432432</td>\n",
       "      <td>458477.2621676719</td>\n",
       "    </tr>\n",
       "    <tr>\n",
       "      <th>4</th>\n",
       "      <td>0.6037000000</td>\n",
       "      <td>11:15:43.6173913</td>\n",
       "      <td>50:46:00.93864865</td>\n",
       "      <td>458477.2697963412</td>\n",
       "    </tr>\n",
       "    <tr>\n",
       "      <th>5</th>\n",
       "      <td>0.6037000000</td>\n",
       "      <td>11:15:59.26956522</td>\n",
       "      <td>50:51:17.15486486</td>\n",
       "      <td>458894.5006107469</td>\n",
       "    </tr>\n",
       "    <tr>\n",
       "      <th>6</th>\n",
       "      <td>0.6037000000</td>\n",
       "      <td>11:15:48.83478261</td>\n",
       "      <td>50:46:25.26297297</td>\n",
       "      <td>459005.3865234353</td>\n",
       "    </tr>\n",
       "    <tr>\n",
       "      <th>7</th>\n",
       "      <td>0.6037000000</td>\n",
       "      <td>11:15:48.83478261</td>\n",
       "      <td>50:46:49.5872973</td>\n",
       "      <td>459005.3907470123</td>\n",
       "    </tr>\n",
       "    <tr>\n",
       "      <th>8</th>\n",
       "      <td>0.6037000000</td>\n",
       "      <td>11:15:54.05217391</td>\n",
       "      <td>50:50:28.50621622</td>\n",
       "      <td>459026.6286850927</td>\n",
       "    </tr>\n",
       "    <tr>\n",
       "      <th>9</th>\n",
       "      <td>0.6037000000</td>\n",
       "      <td>11:15:48.83478261</td>\n",
       "      <td>50:46:00.93864865</td>\n",
       "      <td>459101.0830539749</td>\n",
       "    </tr>\n",
       "    <tr>\n",
       "      <th>10</th>\n",
       "      <td>0.6037000000</td>\n",
       "      <td>11:15:59.26956522</td>\n",
       "      <td>50:51:41.47918919</td>\n",
       "      <td>459331.6886510725</td>\n",
       "    </tr>\n",
       "    <tr>\n",
       "      <th>11</th>\n",
       "      <td>0.6037000000</td>\n",
       "      <td>11:15:54.05217391</td>\n",
       "      <td>50:50:04.18189189</td>\n",
       "      <td>459450.3788802957</td>\n",
       "    </tr>\n",
       "    <tr>\n",
       "      <th>12</th>\n",
       "      <td>0.6037000000</td>\n",
       "      <td>11:15:59.26956522</td>\n",
       "      <td>50:50:52.83054054</td>\n",
       "      <td>459608.1164064676</td>\n",
       "    </tr>\n",
       "    <tr>\n",
       "      <th>13</th>\n",
       "      <td>0.6037000000</td>\n",
       "      <td>11:15:59.26956522</td>\n",
       "      <td>50:50:28.50621622</td>\n",
       "      <td>459760.9417987171</td>\n",
       "    </tr>\n",
       "    <tr>\n",
       "      <th>14</th>\n",
       "      <td>0.6037000000</td>\n",
       "      <td>11:16:04.48695652</td>\n",
       "      <td>50:50:28.50621622</td>\n",
       "      <td>459779.6454288076</td>\n",
       "    </tr>\n",
       "    <tr>\n",
       "      <th>15</th>\n",
       "      <td>0.6037000000</td>\n",
       "      <td>11:16:04.48695652</td>\n",
       "      <td>50:50:52.83054054</td>\n",
       "      <td>459779.6494910593</td>\n",
       "    </tr>\n",
       "    <tr>\n",
       "      <th>16</th>\n",
       "      <td>0.6037000000</td>\n",
       "      <td>11:15:54.05217391</td>\n",
       "      <td>50:45:36.61432432</td>\n",
       "      <td>459828.5032001244</td>\n",
       "    </tr>\n",
       "    <tr>\n",
       "      <th>17</th>\n",
       "      <td>0.6037000000</td>\n",
       "      <td>11:15:54.05217391</td>\n",
       "      <td>50:51:17.15486486</td>\n",
       "      <td>459983.5087086010</td>\n",
       "    </tr>\n",
       "    <tr>\n",
       "      <th>18</th>\n",
       "      <td>0.6037000000</td>\n",
       "      <td>11:15:54.05217391</td>\n",
       "      <td>50:46:25.26297297</td>\n",
       "      <td>460117.5556075361</td>\n",
       "    </tr>\n",
       "    <tr>\n",
       "      <th>19</th>\n",
       "      <td>0.6037000000</td>\n",
       "      <td>11:15:43.6173913</td>\n",
       "      <td>50:46:25.26297297</td>\n",
       "      <td>460173.9302915701</td>\n",
       "    </tr>\n",
       "  </tbody>\n",
       "</table>\n",
       "</div>"
      ],
      "text/plain": [
       "      Freq, s-1                RAJ               DECJ       STD_res, us\n",
       "0  0.6037000000  11:15:48.83478261        50:45:12.29 458078.0912565014\n",
       "1  0.6037000000  11:15:48.83478261  50:45:36.61432432 458078.0971694730\n",
       "2  0.6037000000  11:15:54.05217391  50:50:52.83054054 458344.2958693962\n",
       "3  0.6037000000   11:15:43.6173913  50:45:36.61432432 458477.2621676719\n",
       "4  0.6037000000   11:15:43.6173913  50:46:00.93864865 458477.2697963412\n",
       "5  0.6037000000  11:15:59.26956522  50:51:17.15486486 458894.5006107469\n",
       "6  0.6037000000  11:15:48.83478261  50:46:25.26297297 459005.3865234353\n",
       "7  0.6037000000  11:15:48.83478261   50:46:49.5872973 459005.3907470123\n",
       "8  0.6037000000  11:15:54.05217391  50:50:28.50621622 459026.6286850927\n",
       "9  0.6037000000  11:15:48.83478261  50:46:00.93864865 459101.0830539749\n",
       "10 0.6037000000  11:15:59.26956522  50:51:41.47918919 459331.6886510725\n",
       "11 0.6037000000  11:15:54.05217391  50:50:04.18189189 459450.3788802957\n",
       "12 0.6037000000  11:15:59.26956522  50:50:52.83054054 459608.1164064676\n",
       "13 0.6037000000  11:15:59.26956522  50:50:28.50621622 459760.9417987171\n",
       "14 0.6037000000  11:16:04.48695652  50:50:28.50621622 459779.6454288076\n",
       "15 0.6037000000  11:16:04.48695652  50:50:52.83054054 459779.6494910593\n",
       "16 0.6037000000  11:15:54.05217391  50:45:36.61432432 459828.5032001244\n",
       "17 0.6037000000  11:15:54.05217391  50:51:17.15486486 459983.5087086010\n",
       "18 0.6037000000  11:15:54.05217391  50:46:25.26297297 460117.5556075361\n",
       "19 0.6037000000   11:15:43.6173913  50:46:25.26297297 460173.9302915701"
      ]
     },
     "execution_count": 13,
     "metadata": {},
     "output_type": "execute_result"
    }
   ],
   "source": [
    "p_coors_s.head(20)"
   ]
  },
  {
   "cell_type": "markdown",
   "id": "bc352b1a-05be-493a-b0d6-0fd16e7a6755",
   "metadata": {},
   "source": [
    "## Код позволяющий выделить **ВСЕ** хорошие решения с разными частотами"
   ]
  },
  {
   "cell_type": "code",
   "execution_count": 14,
   "id": "aed0240d-64b0-4dd0-809b-3a931079786d",
   "metadata": {},
   "outputs": [],
   "source": [
    "best_sol = pd.DataFrame(columns=[\n",
    "    'Freq, s-1', \n",
    "    'RAJ',\n",
    "    'DECJ',\n",
    "    'STD_res, us'\n",
    "])\n",
    "tres = 600000\n",
    "idx = 0\n",
    "for i in range(len(p_coors_s)):\n",
    "    if p_coors_s['STD_res, us'][i] > tres:\n",
    "        break\n",
    "    if p_coors_s['Freq, s-1'][i] not in list(best_sol['Freq, s-1']):\n",
    "        best_sol.loc[idx] = [\n",
    "            np.float64(p_coors_s['Freq, s-1'][i]),\n",
    "            p_coors_s['RAJ'][i],\n",
    "            p_coors_s['DECJ'][i],\n",
    "            p_coors_s['STD_res, us'][i]\n",
    "        ]\n",
    "        idx += 1"
   ]
  },
  {
   "cell_type": "code",
   "execution_count": 15,
   "id": "6228f740-f3b9-4574-8304-5d0ade8d5d38",
   "metadata": {},
   "outputs": [
    {
     "data": {
      "text/html": [
       "<div>\n",
       "<style scoped>\n",
       "    .dataframe tbody tr th:only-of-type {\n",
       "        vertical-align: middle;\n",
       "    }\n",
       "\n",
       "    .dataframe tbody tr th {\n",
       "        vertical-align: top;\n",
       "    }\n",
       "\n",
       "    .dataframe thead th {\n",
       "        text-align: right;\n",
       "    }\n",
       "</style>\n",
       "<table border=\"1\" class=\"dataframe\">\n",
       "  <thead>\n",
       "    <tr style=\"text-align: right;\">\n",
       "      <th></th>\n",
       "      <th>Freq, s-1</th>\n",
       "      <th>RAJ</th>\n",
       "      <th>DECJ</th>\n",
       "      <th>STD_res, us</th>\n",
       "    </tr>\n",
       "  </thead>\n",
       "  <tbody>\n",
       "    <tr>\n",
       "      <th>0</th>\n",
       "      <td>0.6037000000</td>\n",
       "      <td>11:15:48.83478261</td>\n",
       "      <td>50:45:12.29</td>\n",
       "      <td>458078.0912565014</td>\n",
       "    </tr>\n",
       "  </tbody>\n",
       "</table>\n",
       "</div>"
      ],
      "text/plain": [
       "     Freq, s-1                RAJ         DECJ       STD_res, us\n",
       "0 0.6037000000  11:15:48.83478261  50:45:12.29 458078.0912565014"
      ]
     },
     "execution_count": 15,
     "metadata": {},
     "output_type": "execute_result"
    }
   ],
   "source": [
    "best_sol"
   ]
  },
  {
   "cell_type": "code",
   "execution_count": null,
   "id": "4179329e-a7b8-4e63-956a-18f8bc35215a",
   "metadata": {},
   "outputs": [],
   "source": []
  },
  {
   "cell_type": "code",
   "execution_count": null,
   "id": "2d63518d-e4f8-4679-a286-ddb9a74d82e2",
   "metadata": {},
   "outputs": [],
   "source": []
  },
  {
   "cell_type": "code",
   "execution_count": null,
   "id": "ac447035-8a3a-4de8-a87c-546d2553b765",
   "metadata": {},
   "outputs": [],
   "source": []
  },
  {
   "cell_type": "code",
   "execution_count": null,
   "id": "8a65450c-5b76-4e10-be01-dacf1b2ff2cb",
   "metadata": {},
   "outputs": [],
   "source": []
  },
  {
   "cell_type": "code",
   "execution_count": null,
   "id": "0ea46247-9c88-4ac1-9de8-08fa9c410e11",
   "metadata": {},
   "outputs": [],
   "source": []
  },
  {
   "cell_type": "code",
   "execution_count": 76,
   "id": "feb5cd98-3ee2-4762-b02a-04bed6d853f7",
   "metadata": {
    "jupyter": {
     "source_hidden": true
    },
    "scrolled": true,
    "tags": []
   },
   "outputs": [],
   "source": [
    "z_list_1 = []\n",
    "z_list_2 = []\n",
    "z_list_3 = []\n",
    "z_list_4 = []\n",
    "z_list_5 = []\n",
    "z_list_6 = []\n",
    "z_list_7 = []\n",
    "z_list_8 = []\n",
    "z_list_9 = []\n",
    "z_list_10 = []\n",
    "for i in range(len(z_list)):\n",
    "    if i <= 26999:\n",
    "        z_list_1.append(z_list[i])\n",
    "    elif 26999 < i <= 53999:\n",
    "        z_list_2.append(z_list[i])\n",
    "    elif 53999 < i <= 80999:\n",
    "        z_list_3.append(z_list[i])\n",
    "    elif 80999 < i <= 107999:\n",
    "        z_list_4.append(z_list[i])\n",
    "    elif 107999 < i <= 134999:\n",
    "        z_list_5.append(z_list[i])\n",
    "    elif 134999 < i <= 161999:\n",
    "        z_list_6.append(z_list[i])\n",
    "    elif 161999 < i <= 188999:\n",
    "        z_list_7.append(z_list[i])\n",
    "    elif 188999 < i <= 215999:\n",
    "        z_list_8.append(z_list[i])\n",
    "    elif 215999 < i <= 242999:\n",
    "        z_list_9.append(z_list[i])\n",
    "    elif 242999 < i <= 269999:\n",
    "        z_list_10.append(z_list[i])"
   ]
  },
  {
   "cell_type": "code",
   "execution_count": 82,
   "id": "10c7a16b-fc18-40c1-8e09-e637d7e8bc19",
   "metadata": {
    "jupyter": {
     "source_hidden": true
    },
    "tags": []
   },
   "outputs": [],
   "source": [
    "x_list_1 = []\n",
    "x_list_2 = []\n",
    "x_list_3 = []\n",
    "x_list_4 = []\n",
    "x_list_5 = []\n",
    "x_list_6 = []\n",
    "x_list_7 = []\n",
    "x_list_8 = []\n",
    "x_list_9 = []\n",
    "x_list_10 = []\n",
    "for i in range(len(x_list)):\n",
    "    if i <= 26999:\n",
    "        x_list_1.append(x_list[i])\n",
    "    elif 26999 < i <= 53999:\n",
    "        x_list_2.append(x_list[i])\n",
    "    elif 53999 < i <= 80999:\n",
    "        x_list_3.append(x_list[i])\n",
    "    elif 80999 < i <= 107999:\n",
    "        x_list_4.append(x_list[i])\n",
    "    elif 107999 < i <= 134999:\n",
    "        x_list_5.append(x_list[i])\n",
    "    elif 134999 < i <= 161999:\n",
    "        x_list_6.append(x_list[i])\n",
    "    elif 161999 < i <= 188999:\n",
    "        x_list_7.append(x_list[i])\n",
    "    elif 188999 < i <= 215999:\n",
    "        x_list_8.append(x_list[i])\n",
    "    elif 215999 < i <= 242999:\n",
    "        x_list_9.append(x_list[i])\n",
    "    elif 242999 < i <= 269999:\n",
    "        x_list_10.append(x_list[i])"
   ]
  },
  {
   "cell_type": "code",
   "execution_count": 83,
   "id": "1fdccdd0-0cfc-4628-9575-cf03077f2f0d",
   "metadata": {
    "jupyter": {
     "source_hidden": true
    },
    "tags": []
   },
   "outputs": [],
   "source": [
    "y_list_1 = []\n",
    "y_list_2 = []\n",
    "y_list_3 = []\n",
    "y_list_4 = []\n",
    "y_list_5 = []\n",
    "y_list_6 = []\n",
    "y_list_7 = []\n",
    "y_list_8 = []\n",
    "y_list_9 = []\n",
    "y_list_10 = []\n",
    "for i in range(len(y_list)):\n",
    "    if i <= 26999:\n",
    "        y_list_1.append(y_list[i])\n",
    "    elif 26999 < i <= 53999:\n",
    "        y_list_2.append(y_list[i])\n",
    "    elif 53999 < i <= 80999:\n",
    "        y_list_3.append(y_list[i])\n",
    "    elif 80999 < i <= 107999:\n",
    "        y_list_4.append(y_list[i])\n",
    "    elif 107999 < i <= 134999:\n",
    "        y_list_5.append(y_list[i])\n",
    "    elif 134999 < i <= 161999:\n",
    "        y_list_6.append(y_list[i])\n",
    "    elif 161999 < i <= 188999:\n",
    "        y_list_7.append(y_list[i])\n",
    "    elif 188999 < i <= 215999:\n",
    "        y_list_8.append(y_list[i])\n",
    "    elif 215999 < i <= 242999:\n",
    "        y_list_9.append(y_list[i])\n",
    "    elif 242999 < i <= 269999:\n",
    "        y_list_10.append(y_list[i])"
   ]
  },
  {
   "cell_type": "code",
   "execution_count": 84,
   "id": "1c71eeaf-2976-458c-b0d1-6b7338f3e731",
   "metadata": {
    "jupyter": {
     "source_hidden": true
    },
    "tags": []
   },
   "outputs": [],
   "source": [
    "colour_list_1 = []\n",
    "colour_list_2 = []\n",
    "colour_list_3 = []\n",
    "colour_list_4 = []\n",
    "colour_list_5 = []\n",
    "colour_list_6 = []\n",
    "colour_list_7 = []\n",
    "colour_list_8 = []\n",
    "colour_list_9 = []\n",
    "colour_list_10 = []\n",
    "for i in range(len(colour_list)):\n",
    "    if i <= 26999:\n",
    "        colour_list_1.append(colour_list[i])\n",
    "    elif 26999 < i <= 53999:\n",
    "        colour_list_2.append(colour_list[i])\n",
    "    elif 53999 < i <= 80999:\n",
    "        colour_list_3.append(colour_list[i])\n",
    "    elif 80999 < i <= 107999:\n",
    "        colour_list_4.append(colour_list[i])\n",
    "    elif 107999 < i <= 134999:\n",
    "        colour_list_5.append(colour_list[i])\n",
    "    elif 134999 < i <= 161999:\n",
    "        colour_list_6.append(colour_list[i])\n",
    "    elif 161999 < i <= 188999:\n",
    "        colour_list_7.append(colour_list[i])\n",
    "    elif 188999 < i <= 215999:\n",
    "        colour_list_8.append(colour_list[i])\n",
    "    elif 215999 < i <= 242999:\n",
    "        colour_list_9.append(colour_list[i])\n",
    "    elif 242999 < i <= 269999:\n",
    "        colour_list_10.append(colour_list[i])"
   ]
  },
  {
   "cell_type": "code",
   "execution_count": 87,
   "id": "6ef9b57d-556b-48c5-8b5e-72d08a11cf00",
   "metadata": {
    "jupyter": {
     "source_hidden": true
    },
    "tags": []
   },
   "outputs": [],
   "source": [
    "df_1 = pd.DataFrame({'ra': x_list_1, 'dec': y_list_1, 'freq': z_list_1, 'residuals': colour_list_1})\n",
    "df_2 = pd.DataFrame({'ra': x_list_2, 'dec': y_list_2, 'freq': z_list_2, 'residuals': colour_list_2})\n",
    "df_3 = pd.DataFrame({'ra': x_list_3, 'dec': y_list_3, 'freq': z_list_3, 'residuals': colour_list_3})\n",
    "df_4 = pd.DataFrame({'ra': x_list_4, 'dec': y_list_4, 'freq': z_list_4, 'residuals': colour_list_4})\n",
    "df_5 = pd.DataFrame({'ra': x_list_5, 'dec': y_list_5, 'freq': z_list_5, 'residuals': colour_list_5})\n",
    "df_6 = pd.DataFrame({'ra': x_list_6, 'dec': y_list_6, 'freq': z_list_6, 'residuals': colour_list_6})\n",
    "df_7 = pd.DataFrame({'ra': x_list_7, 'dec': y_list_7, 'freq': z_list_7, 'residuals': colour_list_7})\n",
    "df_8 = pd.DataFrame({'ra': x_list_8, 'dec': y_list_8, 'freq': z_list_8, 'residuals': colour_list_8})\n",
    "df_9 = pd.DataFrame({'ra': x_list_9, 'dec': y_list_9, 'freq': z_list_9, 'residuals': colour_list_9})\n",
    "df_10 = pd.DataFrame({'ra': x_list_10, 'dec': y_list_10, 'freq': z_list_10, 'residuals': colour_list_10})"
   ]
  },
  {
   "cell_type": "code",
   "execution_count": 94,
   "id": "a2618885-430b-4aab-ac9b-879b4d0edc28",
   "metadata": {
    "jupyter": {
     "source_hidden": true
    },
    "tags": []
   },
   "outputs": [],
   "source": [
    "fig_1 = px.scatter_3d(df_1, x='ra', y='dec', z='freq', color='residuals')\n",
    "fig_2 = px.scatter_3d(df_2, x='ra', y='dec', z='freq', color='residuals')\n",
    "fig_3 = px.scatter_3d(df_3, x='ra', y='dec', z='freq', color='residuals')\n",
    "fig_4 = px.scatter_3d(df_4, x='ra', y='dec', z='freq', color='residuals')\n",
    "fig_5 = px.scatter_3d(df_5, x='ra', y='dec', z='freq', color='residuals')\n",
    "fig_6 = px.scatter_3d(df_6, x='ra', y='dec', z='freq', color='residuals')\n",
    "fig_7 = px.scatter_3d(df_7, x='ra', y='dec', z='freq', color='residuals')\n",
    "fig_8 = px.scatter_3d(df_8, x='ra', y='dec', z='freq', color='residuals')\n",
    "fig_9 = px.scatter_3d(df_9, x='ra', y='dec', z='freq', color='residuals')\n",
    "fig_10 = px.scatter_3d(df_10, x='ra', y='dec', z='freq', color='residuals')"
   ]
  },
  {
   "cell_type": "code",
   "execution_count": 146,
   "id": "a51328eb-a853-4a93-8206-f65427e6e3a1",
   "metadata": {
    "jupyter": {
     "source_hidden": true
    },
    "tags": []
   },
   "outputs": [
    {
     "name": "stdin",
     "output_type": "stream",
     "text": [
      "Введите минимальный номер слоя:  5\n",
      "Введите максимальный номер слоя:  5\n"
     ]
    },
    {
     "data": {
      "text/plain": [
       "'./res_iter_ra_dec_freq_1112.html'"
      ]
     },
     "execution_count": 146,
     "metadata": {},
     "output_type": "execute_result"
    }
   ],
   "source": [
    "Min_val_freq = int(input('Введите минимальный номер слоя: '))\n",
    "Max_val_freq = int(input('Введите максимальный номер слоя: '))\n",
    "result_x_list, result_y_list, result_z_list, result_colour_list = [], [], [], []\n",
    "x_list, y_list, z_list, colour_list = [x_list_1, x_list_2, x_list_3, \n",
    "                                       x_list_4, x_list_5, x_list_6, x_list_7, \n",
    "                                       x_list_8, x_list_9, x_list_10], [y_list_1, y_list_2, y_list_3, y_list_4, \n",
    "                                                                        \n",
    "                                                                        y_list_5, y_list_6, y_list_7, y_list_8, \n",
    "                                                                        y_list_9, y_list_10], [z_list_1, z_list_2, z_list_3, z_list_4, \n",
    "                                                                                               z_list_5, z_list_6, z_list_7, \n",
    "                                                                                               z_list_8, z_list_9, z_list_10], [colour_list_1, colour_list_2, colour_list_3, colour_list_4, \n",
    "                                                                                                                                colour_list_5, colour_list_6, colour_list_7, colour_list_8, colour_list_9, colour_list_10]\n",
    "for i in range(Min_val_freq, Max_val_freq+1):\n",
    "    result_x_list.extend(x_list[i-1])\n",
    "    result_y_list.extend(y_list[i-1])\n",
    "    result_z_list.extend(z_list[i-1])\n",
    "    result_colour_list.extend(colour_list[i-1])\n",
    "\n",
    "\n",
    "df = pd.DataFrame({'ra': result_x_list, 'dec': result_y_list, 'freq': result_z_list, 'residuals': result_colour_list})\n",
    "fig = px.scatter_3d(df, x='ra', y='dec', z='freq', color='residuals')\n",
    "plotly.offline.plot(fig, filename=f'./res_iter_ra_dec_freq_{name_pulsar}.html')"
   ]
  },
  {
   "cell_type": "markdown",
   "id": "b9b92097-f985-433f-9dd9-8ddb16405b53",
   "metadata": {},
   "source": [
    "## "
   ]
  }
 ],
 "metadata": {
  "kernelspec": {
   "display_name": "Python 3",
   "language": "python",
   "name": "python3"
  },
  "language_info": {
   "codemirror_mode": {
    "name": "ipython",
    "version": 3
   },
   "file_extension": ".py",
   "mimetype": "text/x-python",
   "name": "python",
   "nbconvert_exporter": "python",
   "pygments_lexer": "ipython3",
   "version": "3.8.5"
  }
 },
 "nbformat": 4,
 "nbformat_minor": 5
}
